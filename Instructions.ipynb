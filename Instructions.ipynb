{
 "cells": [
  {
   "cell_type": "code",
   "execution_count": null,
   "id": "5657b17a",
   "metadata": {},
   "outputs": [],
   "source": [
    "!pip3 install -r requirements.txt"
   ]
  },
  {
   "cell_type": "code",
   "execution_count": null,
   "id": "3d91a420",
   "metadata": {},
   "outputs": [],
   "source": [
    "!unzip models.zip -d './models_ViT'"
   ]
  },
  {
   "cell_type": "code",
   "execution_count": null,
   "id": "e0531fd7",
   "metadata": {},
   "outputs": [],
   "source": [
    "!unzip optim.zip -d './optim'"
   ]
  },
  {
   "cell_type": "markdown",
   "id": "d1e616cd",
   "metadata": {},
   "source": [
    "### upload \n",
    "* upload utils.py to ./\n",
    "* upload ViT-B-16.tar to ./\n",
    "* ViT_Unlearning_MUCAC.py to models_ViT\n",
    "* ViT_Unlearning.py to models_ViT\n",
    "* \n"
   ]
  },
  {
   "cell_type": "markdown",
   "id": "f6569bc7",
   "metadata": {},
   "source": [
    "### update\n",
    "* visual_transformers.py"
   ]
  },
  {
   "cell_type": "markdown",
   "id": "54bc1615",
   "metadata": {},
   "source": [
    "## From the original code from Dongbin Na"
   ]
  },
  {
   "cell_type": "markdown",
   "id": "20643a58",
   "metadata": {
    "id": "3XQByno9CIUg"
   },
   "source": [
    "#### <b>Download the Dataset</b>\n",
    "\n",
    "* The dataset contains approximately 13,000 Korean \"human face\" images.\n",
    "* In this dataset, all faces are cropped to a resolution of 128 X 128 pixels, although some of the original images have been high resolution.\n",
    "* Each image filename indicates which family (household) number it belongs to."
   ]
  },
  {
   "cell_type": "code",
   "execution_count": 4,
   "id": "c40da505",
   "metadata": {
    "id": "UWvuBOPACCza",
    "tags": []
   },
   "outputs": [],
   "source": [
    "%%capture\n",
    "!wget https://postechackr-my.sharepoint.com/:u:/g/personal/dongbinna_postech_ac_kr/EbMhBPnmIb5MutZvGicPKggBWKm5hLs0iwKfGW7_TwQIKg?download=1 -O custom_korean_family_dataset_resolution_128.zip\n",
    "!unzip custom_korean_family_dataset_resolution_128.zip -d ./custom_korean_family_dataset_resolution_128"
   ]
  },
  {
   "cell_type": "markdown",
   "id": "6ac92c59",
   "metadata": {
    "id": "SYfIkThKmORe"
   },
   "source": [
    "#### <b>Download the Original Datasets</b>\n",
    "\n",
    "* <b>CelebA-HQ Dataset</b>: A dataset consisting of 30,000 \"human face\" images.\n",
    "    * This dataset has approximately 3GB of data in size and is one of the most widely used face datasets worldwide.\n",
    "* <b>CelebA-HQ Identity Dataset</b>: A dataset that provides information about <b>who the individuals (subjects) are</b> for each facial image file.\n",
    "* <b>CelebA-HQ Attribute Dataset</b>: A dataset that provides attribute information for each facial image file.\n",
    "    * This attribute information includes <b>gender</b>, <b>smiling</b>, and <b>age</b>, which we will be used for a multi-label task."
   ]
  },
  {
   "cell_type": "code",
   "execution_count": null,
   "id": "614a2356",
   "metadata": {},
   "outputs": [],
   "source": [
    "!wget https://postechackr-my.sharepoint.com/:u:/g/personal/dongbinna_postech_ac_kr/Eb37jNPPA7hHl0fmktYqcV8B-qmPLx-ZKYQ1eFk4UPBV_A?download=1 -O CelebAMask-HQ.zip\n",
    "!wget https://postechackr-my.sharepoint.com/:t:/g/personal/dongbinna_postech_ac_kr/EVRoUY8_txRFv56-KWvZrksBDWbD6adkjBxwwRN7qAC6bg?download=1 -O CelebA-HQ-identity.txt\n",
    "!wget https://postechackr-my.sharepoint.com/:t:/g/personal/dongbinna_postech_ac_kr/EVrdIrPOkR1OlEWBVK8lE3AB9bFh741GnKBkNgPa8trNuA?download=1 -O CelebA-HQ-attribute.txt"
   ]
  },
  {
   "cell_type": "code",
   "execution_count": 8,
   "id": "403643af",
   "metadata": {
    "id": "Tv6sJXlGmN6v"
   },
   "outputs": [],
   "source": [
    "%%capture\n",
    "!rm -rf ./CelebAMask-HQ\n",
    "!unzip CelebAMask-HQ.zip"
   ]
  },
  {
   "cell_type": "markdown",
   "id": "727504e2",
   "metadata": {},
   "source": [
    "# 1. Creating a pre-trained model"
   ]
  },
  {
   "cell_type": "code",
   "execution_count": null,
   "id": "a39e2e88",
   "metadata": {},
   "outputs": [],
   "source": [
    "!CUDA_VISIBLE_DEVICES='0' python ViTMUL_MUFAC.py \\\n",
    "    --num_epochs 30 \\\n",
    "    --seeds '1' \\\n",
    "    --learning_rate 0.00001 \\\n",
    "    --momentum 0.9 \\\n",
    "    --model_type 'teacher' \\\n",
    "    --optimizer 'adamw' \\\n",
    "    --manual_decay True"
   ]
  },
  {
   "cell_type": "markdown",
   "id": "943764dd",
   "metadata": {},
   "source": [
    "# Unlearning #1. Retrain from scratch with only the retain set."
   ]
  },
  {
   "cell_type": "code",
   "execution_count": null,
   "id": "d8cab130",
   "metadata": {},
   "outputs": [],
   "source": [
    "!CUDA_VISIBLE_DEVICES='0' python ViTMUL_MUFAC.py \\\n",
    "    --num_epochs 30 \\\n",
    "    --seeds '1' \\\n",
    "    --learning_rate 0.00001 \\\n",
    "    --momentum 0.9 \\\n",
    "    --model_type 'retrain' \\\n",
    "    --optimizer 'adamw' \\\n",
    "    --manual_decay True"
   ]
  }
 ],
 "metadata": {
  "kernelspec": {
   "display_name": "Python 3",
   "language": "python",
   "name": "python3"
  },
  "language_info": {
   "codemirror_mode": {
    "name": "ipython",
    "version": 3
   },
   "file_extension": ".py",
   "mimetype": "text/x-python",
   "name": "python",
   "nbconvert_exporter": "python",
   "pygments_lexer": "ipython3",
   "version": "3.7.12"
  }
 },
 "nbformat": 4,
 "nbformat_minor": 5
}
